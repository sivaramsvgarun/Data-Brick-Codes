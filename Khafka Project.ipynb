{
 "cells": [
  {
   "cell_type": "code",
   "execution_count": 0,
   "metadata": {
    "application/vnd.databricks.v1+cell": {
     "cellMetadata": {
      "byteLimit": 2048000,
      "rowLimit": 10000
     },
     "inputWidgets": {},
     "nuid": "75634edd-f22c-4f40-a699-b99148f3fbce",
     "showTitle": false,
     "tableResultSettingsMap": {
      "0": {
       "dataGridStateBlob": "{\"version\":1,\"tableState\":{\"columnPinning\":{\"left\":[\"#row_number#\"],\"right\":[]},\"columnSizing\":{},\"columnVisibility\":{}},\"settings\":{\"columns\":{}},\"syncTimestamp\":1761736335809}",
       "filterBlob": null,
       "queryPlanFiltersBlob": null,
       "tableResultIndex": 0
      }
     },
     "title": ""
    }
   },
   "outputs": [],
   "source": [
    "from pyspark.sql import SparkSession\n",
    "from pyspark.sql.functions import *\n",
    "from pyspark.sql.types import StringType, IntegerType\n",
    "\n",
    "spark = SparkSession.builder.appName(\n",
    "    'Read CSV File into DataFrame') \\\n",
    "    .config(\"spark.sql.legacy.timeParserPolicy\", \"LEGACY\") \\\n",
    "    .config(\"spark.sql.caseSensitive\", \"True\") \\\n",
    "    .getOrCreate()\n",
    "\n",
    "df = spark.read.json(\"s3://siva-databricks-files/cyber-01/*\")\n",
    "\n",
    "df1 = df.withColumn(\n",
    "    \"as_date\",\n",
    "    to_timestamp(col(\"ITEM_DATE\"), \"dd-MMM-yy hh:mm:ss a\")\n",
    ")\n",
    "\n",
    "def getInterval(time):\n",
    "    start = int(time.split(\":\")[0])\n",
    "    return f\"{start}-{start+1}\"\n",
    "\n",
    "getIntervalUdf = udf(getInterval, StringType())\n",
    "\n",
    "df2 = df1.withColumn(\"date\", date_format(col('as_date'), 'yyyy-MM-dd')) \\\n",
    "         .withColumn(\"time\", date_format(col('as_date'), 'HH:mm:ss')) \\\n",
    "         .withColumn(\"Interval\", getIntervalUdf(\"time\")) \\\n",
    "         .withColumn(\"account_id\", col('ACCOUNT_ID').cast(IntegerType()))\n",
    "item_df1 = df2.groupBy('date','account_id','Interval').agg(count('*').alias('msg_per_hr'))         \n",
    "\n",
    "display(item_df1)\n"
   ]
  },
  {
   "cell_type": "code",
   "execution_count": 0,
   "metadata": {
    "application/vnd.databricks.v1+cell": {
     "cellMetadata": {
      "byteLimit": 2048000,
      "rowLimit": 10000
     },
     "collapsed": true,
     "inputWidgets": {},
     "nuid": "0448336f-029b-4464-bf92-e2a548537500",
     "showTitle": false,
     "tableResultSettingsMap": {},
     "title": ""
    }
   },
   "outputs": [],
   "source": [
    "input_str = 'a3b2c4'\n",
    "output = ''\n",
    "\n",
    "for i in range(0, len(input_str), 2):\n",
    "    char = input_str[i]\n",
    "    count = int(input_str[i+1])\n",
    "    output += char * count\n",
    "\n",
    "print(output)\n"
   ]
  },
  {
   "cell_type": "code",
   "execution_count": 0,
   "metadata": {
    "application/vnd.databricks.v1+cell": {
     "cellMetadata": {
      "byteLimit": 2048000,
      "rowLimit": 10000
     },
     "inputWidgets": {},
     "nuid": "99218959-ce82-4cfa-a69a-316b93e5d556",
     "showTitle": false,
     "tableResultSettingsMap": {},
     "title": ""
    }
   },
   "outputs": [],
   "source": [
    "a='a3b2c4'\n",
    "output = \".join(map(lamda x:x[0]*int (x[1], zip (s:[::2], s[1::2]))))\"\n",
    "\n",
    "s = 'a3b2c4'\n",
    "output = ''.join(map(lambda x: x[0] * int(x[1]), zip(s[::2], s[1::2])))\n",
    "print(output)\n"
   ]
  }
 ],
 "metadata": {
  "application/vnd.databricks.v1+notebook": {
   "computePreferences": {
    "hardware": {
     "accelerator": null,
     "gpuPoolId": null,
     "memory": null
    }
   },
   "dashboards": [],
   "environmentMetadata": {
    "base_environment": "",
    "environment_version": "4"
   },
   "inputWidgetPreferences": null,
   "language": "python",
   "notebookMetadata": {
    "pythonIndentUnit": 4
   },
   "notebookName": "Khafka Project",
   "widgets": {}
  },
  "language_info": {
   "name": "python"
  }
 },
 "nbformat": 4,
 "nbformat_minor": 0
}
